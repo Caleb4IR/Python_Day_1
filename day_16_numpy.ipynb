{
 "cells": [
  {
   "cell_type": "markdown",
   "metadata": {},
   "source": [
    "Data analyst and Data Scientist\n",
    "\n",
    "    SQL\n",
    "    - One shot Query\n",
    "    - Programmers - MNC\n",
    "    - Power BI - Charts\n",
    "\n",
    "    Data Scientist\n",
    "    - Excel\n",
    "    - Line by line(step)\n",
    "    - Python - numpy, pandas\n",
    "    - Open-source\n",
    "    - Scale \n",
    "    - Scikit - Data prediction\n",
    "    - Matplot, seaborn - Charts\n"
   ]
  },
  {
   "cell_type": "code",
   "execution_count": 1,
   "metadata": {},
   "outputs": [
    {
     "name": "stdout",
     "output_type": "stream",
     "text": [
      "Collecting numpyNote: you may need to restart the kernel to use updated packages.\n"
     ]
    },
    {
     "name": "stderr",
     "output_type": "stream",
     "text": [
      "\n",
      "[notice] A new release of pip available: 22.2.2 -> 24.0\n",
      "[notice] To update, run: python.exe -m pip install --upgrade pip\n"
     ]
    },
    {
     "name": "stdout",
     "output_type": "stream",
     "text": [
      "\n",
      "  Downloading numpy-1.26.4-cp310-cp310-win_amd64.whl (15.8 MB)\n",
      "     ---------------------------------------- 15.8/15.8 MB 4.5 MB/s eta 0:00:00\n",
      "Installing collected packages: numpy\n",
      "Successfully installed numpy-1.26.4\n"
     ]
    }
   ],
   "source": [
    "%pip install numpy\n",
    "\n"
   ]
  },
  {
   "cell_type": "markdown",
   "metadata": {},
   "source": [
    "## Numpy\n",
    "- Work with Arrays\n",
    "- Performant\n",
    "- C language\n",
    "- Statistical Orientated - mean, mode, std\n",
    "\n"
   ]
  },
  {
   "cell_type": "code",
   "execution_count": 2,
   "metadata": {},
   "outputs": [],
   "source": [
    "import numpy as np"
   ]
  },
  {
   "cell_type": "markdown",
   "metadata": {},
   "source": [
    "## Shortcuts\n",
    "- `ctrl + alt + enter` --> Run the cell\n",
    "- `shift + enter` --> Move to next cell"
   ]
  },
  {
   "cell_type": "code",
   "execution_count": 5,
   "metadata": {},
   "outputs": [
    {
     "data": {
      "text/plain": [
       "array([180, 160,  40,  80])"
      ]
     },
     "execution_count": 5,
     "metadata": {},
     "output_type": "execute_result"
    }
   ],
   "source": [
    "marks = np.array([90, 80, 20, 40])\n",
    "marks_list = [90, 80, 20, 40]\n",
    "marks_list * 2\n",
    "marks * 2"
   ]
  },
  {
   "cell_type": "markdown",
   "metadata": {},
   "source": [
    "## Python way to double the list"
   ]
  },
  {
   "cell_type": "code",
   "execution_count": 6,
   "metadata": {},
   "outputs": [
    {
     "name": "stdout",
     "output_type": "stream",
     "text": [
      "[180, 160, 40, 80]\n"
     ]
    }
   ],
   "source": [
    "marks_list = [90, 80, 20, 40]\n",
    "doubled_marks = [2 * mark for mark in marks_list]\n",
    "print(doubled_marks)\n"
   ]
  },
  {
   "cell_type": "code",
   "execution_count": 9,
   "metadata": {},
   "outputs": [
    {
     "data": {
      "text/plain": [
       "array([0., 0., 0., 0., 0., 0., 0., 0., 0., 0., 0., 0., 0., 0., 0., 0., 0.,\n",
       "       0., 0., 0., 0., 0., 0., 0., 0., 0., 0., 0., 0., 0., 0., 0., 0., 0.,\n",
       "       0., 0., 0., 0., 0., 0., 0., 0., 0., 0., 0., 0., 0., 0., 0., 0., 0.,\n",
       "       0., 0., 0., 0., 0., 0., 0., 0., 0., 0., 0., 0., 0., 0., 0., 0., 0.,\n",
       "       0., 0., 0., 0., 0., 0., 0., 0., 0., 0., 0., 0., 0., 0., 0., 0., 0.,\n",
       "       0., 0., 0., 0., 0.])"
      ]
     },
     "execution_count": 9,
     "metadata": {},
     "output_type": "execute_result"
    }
   ],
   "source": [
    "np.ones(200)\n",
    "np.zeros(90)"
   ]
  },
  {
   "cell_type": "code",
   "execution_count": 16,
   "metadata": {},
   "outputs": [
    {
     "data": {
      "text/plain": [
       "array([1, 3, 5, 7, 9])"
      ]
     },
     "execution_count": 16,
     "metadata": {},
     "output_type": "execute_result"
    }
   ],
   "source": [
    "np.arange(10)\n",
    "np.arange(1,10)\n",
    "np.arange(1,10,2)"
   ]
  },
  {
   "cell_type": "code",
   "execution_count": 17,
   "metadata": {},
   "outputs": [
    {
     "data": {
      "text/plain": [
       "array([False, False, False, False, False, False,  True,  True,  True,\n",
       "        True])"
      ]
     },
     "execution_count": 17,
     "metadata": {},
     "output_type": "execute_result"
    }
   ],
   "source": [
    "np.arange(10) > 5"
   ]
  },
  {
   "cell_type": "code",
   "execution_count": 18,
   "metadata": {},
   "outputs": [
    {
     "data": {
      "text/plain": [
       "array([ 0,  2,  4,  6,  8, 10, 12, 14, 16, 18])"
      ]
     },
     "execution_count": 18,
     "metadata": {},
     "output_type": "execute_result"
    }
   ],
   "source": [
    "np.arange(10) * 2"
   ]
  },
  {
   "cell_type": "code",
   "execution_count": 19,
   "metadata": {},
   "outputs": [
    {
     "data": {
      "text/plain": [
       "array([ 6,  7,  8,  9, 10])"
      ]
     },
     "execution_count": 19,
     "metadata": {},
     "output_type": "execute_result"
    }
   ],
   "source": [
    "first_ten_nums = np.arange(1,11)\n",
    "all_gt_five = first_ten_nums > 5\n",
    "first_ten_nums[first_ten_nums>5]\n",
    "first_ten_nums[all_gt_five]"
   ]
  },
  {
   "cell_type": "markdown",
   "metadata": {},
   "source": [
    "## Task\n",
    "Create a 1...200 numbers and provide a numpy array with all even numers"
   ]
  },
  {
   "cell_type": "code",
   "execution_count": 30,
   "metadata": {},
   "outputs": [
    {
     "data": {
      "text/plain": [
       "array([  0,   2,   4,   6,   8,  10,  12,  14,  16,  18,  20,  22,  24,\n",
       "        26,  28,  30,  32,  34,  36,  38,  40,  42,  44,  46,  48,  50,\n",
       "        52,  54,  56,  58,  60,  62,  64,  66,  68,  70,  72,  74,  76,\n",
       "        78,  80,  82,  84,  86,  88,  90,  92,  94,  96,  98, 100, 102,\n",
       "       104, 106, 108, 110, 112, 114, 116, 118, 120, 122, 124, 126, 128,\n",
       "       130, 132, 134, 136, 138, 140, 142, 144, 146, 148, 150, 152, 154,\n",
       "       156, 158, 160, 162, 164, 166, 168, 170, 172, 174, 176, 178, 180,\n",
       "       182, 184, 186, 188, 190, 192, 194, 196, 198, 200])"
      ]
     },
     "execution_count": 30,
     "metadata": {},
     "output_type": "execute_result"
    }
   ],
   "source": [
    "numbers_array = np.arange(0,201,2)\n",
    "numbers_array\n"
   ]
  },
  {
   "cell_type": "markdown",
   "metadata": {},
   "source": [
    "## Task 2\n",
    "Without the skip/step of arange"
   ]
  },
  {
   "cell_type": "code",
   "execution_count": 29,
   "metadata": {},
   "outputs": [
    {
     "data": {
      "text/plain": [
       "array([  0,   2,   4,   6,   8,  10,  12,  14,  16,  18,  20,  22,  24,\n",
       "        26,  28,  30,  32,  34,  36,  38,  40,  42,  44,  46,  48,  50,\n",
       "        52,  54,  56,  58,  60,  62,  64,  66,  68,  70,  72,  74,  76,\n",
       "        78,  80,  82,  84,  86,  88,  90,  92,  94,  96,  98, 100, 102,\n",
       "       104, 106, 108, 110, 112, 114, 116, 118, 120, 122, 124, 126, 128,\n",
       "       130, 132, 134, 136, 138, 140, 142, 144, 146, 148, 150, 152, 154,\n",
       "       156, 158, 160, 162, 164, 166, 168, 170, 172, 174, 176, 178, 180,\n",
       "       182, 184, 186, 188, 190, 192, 194, 196, 198, 200])"
      ]
     },
     "execution_count": 29,
     "metadata": {},
     "output_type": "execute_result"
    }
   ],
   "source": [
    "numbers_array = np.arange(201)\n",
    "even_numbers_array = numbers_array[numbers_array % 2 == 0]\n",
    "even_numbers_array"
   ]
  },
  {
   "cell_type": "code",
   "execution_count": null,
   "metadata": {},
   "outputs": [],
   "source": [
    "ages = np.random.randint(18, 60, 1_000_000)\n",
    "ages_list = ages.tolist()\n",
    "ages_list"
   ]
  },
  {
   "cell_type": "code",
   "execution_count": null,
   "metadata": {},
   "outputs": [],
   "source": [
    "%%time\n",
    "double_ages = [age * 2 for age in ages_list]\n",
    "print(double_ages)"
   ]
  },
  {
   "cell_type": "code",
   "execution_count": 48,
   "metadata": {},
   "outputs": [
    {
     "name": "stdout",
     "output_type": "stream",
     "text": [
      "CPU times: total: 0 ns\n",
      "Wall time: 2.01 ms\n"
     ]
    },
    {
     "data": {
      "text/plain": [
       "array([ 64,  96,  80, ...,  56, 112,  48])"
      ]
     },
     "execution_count": 48,
     "metadata": {},
     "output_type": "execute_result"
    }
   ],
   "source": [
    "%%time\n",
    "dbl_ages = ages * 2\n",
    "dbl_ages"
   ]
  },
  {
   "cell_type": "markdown",
   "metadata": {},
   "source": [
    "## Statistical Orientated - mean, mode, median, std\n",
    "- mean --> Average\n",
    "- mode --> Most repeated number (most popular)\n",
    "- median --> The middle value(In ordered list)\n",
    "- standard deviation --> Average distance between mean and numbers"
   ]
  },
  {
   "cell_type": "code",
   "execution_count": 53,
   "metadata": {},
   "outputs": [
    {
     "name": "stdout",
     "output_type": "stream",
     "text": [
      "[42 70 45 67 88 85 58 83 71 78]\n"
     ]
    },
    {
     "data": {
      "text/plain": [
       "68.7"
      ]
     },
     "execution_count": 53,
     "metadata": {},
     "output_type": "execute_result"
    }
   ],
   "source": [
    "marks = np.random.randint(40, 100, 10)\n",
    "print(marks)\n",
    "marks.mean()\n",
    "np.mean(marks)"
   ]
  },
  {
   "cell_type": "code",
   "execution_count": 54,
   "metadata": {},
   "outputs": [
    {
     "data": {
      "text/plain": [
       "70.5"
      ]
     },
     "execution_count": 54,
     "metadata": {},
     "output_type": "execute_result"
    }
   ],
   "source": [
    "np.median(marks)"
   ]
  },
  {
   "cell_type": "code",
   "execution_count": 55,
   "metadata": {},
   "outputs": [
    {
     "data": {
      "text/plain": [
       "687"
      ]
     },
     "execution_count": 55,
     "metadata": {},
     "output_type": "execute_result"
    }
   ],
   "source": [
    "np.sum(marks)"
   ]
  },
  {
   "cell_type": "markdown",
   "metadata": {},
   "source": [
    "## Task \n",
    "Investment = 1_000\n",
    "rate_of_interest --> 5%\n",
    "1st year R50 --> 1_050\n",
    "2nd year R52.50 --> 1_102.50\n",
    "\n",
    "### Task 1\n",
    "At the end of every year tell me the balance\n",
    "[1050, 1102.50 ...]\n",
    "\n",
    "### Task 2\n",
    "At the end of 10 years what will be the balance?\n",
    "Use slicing\n",
    "\n",
    "### Task 3\n",
    "How much % has it grown or increased compared to first year\n"
   ]
  },
  {
   "cell_type": "code",
   "execution_count": 70,
   "metadata": {},
   "outputs": [
    {
     "data": {
      "text/plain": [
       "array([1050.        , 1102.5       , 1157.625     , 1215.50625   ,\n",
       "       1276.2815625 , 1340.09564063, 1407.10042266, 1477.45544379,\n",
       "       1551.32821598, 1628.89462678])"
      ]
     },
     "execution_count": 70,
     "metadata": {},
     "output_type": "execute_result"
    }
   ],
   "source": [
    "import numpy as np\n",
    "\n",
    "investment = 1000\n",
    "rate_of_interest = 0.05\n",
    "\n",
    "years = np.arange(1, 11)\n",
    "balances = investment * (1 + rate_of_interest) ** years\n",
    "\n",
    "balances\n"
   ]
  },
  {
   "cell_type": "code",
   "execution_count": 71,
   "metadata": {},
   "outputs": [
    {
     "name": "stdout",
     "output_type": "stream",
     "text": [
      "Balance at the end of 10 years: 1628.89\n"
     ]
    }
   ],
   "source": [
    "balance_at_10_years = balances[-1]  \n",
    "\n",
    "print(\"Balance at the end of 10 years:\", round(balance_at_10_years, 2))\n"
   ]
  },
  {
   "cell_type": "code",
   "execution_count": 72,
   "metadata": {},
   "outputs": [
    {
     "name": "stdout",
     "output_type": "stream",
     "text": [
      "Percentage increase compared to the balance at the end of the first year: 55.13 %\n"
     ]
    }
   ],
   "source": [
    "balance_at_first_year = balances[0]\n",
    "percentage_increase = ((balance_at_10_years - balance_at_first_year) / balance_at_first_year) * 100\n",
    "\n",
    "print(\"Percentage increase compared to the balance at the end of the first year:\", round(percentage_increase, 2), \"%\")"
   ]
  },
  {
   "cell_type": "markdown",
   "metadata": {},
   "source": [
    "## Useful methods\n",
    "- String methods\n",
    "- Unique\n",
    "- Max, min"
   ]
  },
  {
   "cell_type": "code",
   "execution_count": 73,
   "metadata": {},
   "outputs": [
    {
     "data": {
      "text/plain": [
       "array([3042, 8820, 3843, 8588, 8669, 8285, 2934, 1923, 9441, 9851])"
      ]
     },
     "execution_count": 73,
     "metadata": {},
     "output_type": "execute_result"
    }
   ],
   "source": [
    "salaries = np.random.randint(1_000, 10_000, 10)\n",
    "salaries\n"
   ]
  },
  {
   "cell_type": "code",
   "execution_count": 77,
   "metadata": {},
   "outputs": [
    {
     "name": "stdout",
     "output_type": "stream",
     "text": [
      "9851 9\n",
      "1923 7\n"
     ]
    }
   ],
   "source": [
    "print(np.max(salaries), np.argmax(salaries))\n",
    "print(np.min(salaries), np.argmin(salaries))"
   ]
  },
  {
   "cell_type": "code",
   "execution_count": 78,
   "metadata": {},
   "outputs": [
    {
     "data": {
      "text/plain": [
       "array([1, 1, 1, 1, 1, 3, 3, 1, 2, 1])"
      ]
     },
     "execution_count": 78,
     "metadata": {},
     "output_type": "execute_result"
    }
   ],
   "source": [
    "nums = np.random.randint(1, 4, 10)\n",
    "nums"
   ]
  },
  {
   "cell_type": "code",
   "execution_count": 81,
   "metadata": {},
   "outputs": [
    {
     "data": {
      "text/plain": [
       "array([3, 2, 1])"
      ]
     },
     "execution_count": 81,
     "metadata": {},
     "output_type": "execute_result"
    }
   ],
   "source": [
    "np.unique(nums)[::-1]\n",
    "unique_nums = np.unique(nums)\n",
    "np.flip(unique_nums)"
   ]
  },
  {
   "cell_type": "code",
   "execution_count": 85,
   "metadata": {},
   "outputs": [
    {
     "data": {
      "text/plain": [
       "array(['Apple', 'banana', 'GRAPE', 'cucumber', 'Pineapple', 'tomato',\n",
       "       'Orange', 'lemon', 'Kiwi', 'mango', 'blueberry', 'raspberry'],\n",
       "      dtype='<U10')"
      ]
     },
     "execution_count": 85,
     "metadata": {},
     "output_type": "execute_result"
    }
   ],
   "source": [
    "items = np.array([' Apple', 'banana ', 'GRAPE', 'cucumber', 'Pineapple', ' tomato ', 'Orange', ' lemon', 'Kiwi ', 'mango', 'blueberry ', ' raspberry'])\n",
    "np.char.strip(items)\n"
   ]
  },
  {
   "cell_type": "markdown",
   "metadata": {},
   "source": [
    "## Task 1\n",
    "Normlize the Array\n",
    "\n",
    "Trim the leading and trailing spaces\n",
    "Convert all to lowercase\n",
    "Ensure there are no dup;icates"
   ]
  },
  {
   "cell_type": "code",
   "execution_count": 95,
   "metadata": {},
   "outputs": [
    {
     "name": "stdout",
     "output_type": "stream",
     "text": [
      "['apple' 'banana' 'blueberry' 'cucumber' 'grape' 'kiwi' 'lemon' 'mango'\n",
      " 'orange' 'pineapple' 'raspberry' 'tomato']\n"
     ]
    },
    {
     "data": {
      "text/plain": [
       "array(['apple', 'banana', 'blueberry', 'cucumber', 'grape', 'kiwi',\n",
       "       'lemon', 'mango', 'orange', 'pineapple', 'raspberry', 'tomato'],\n",
       "      dtype='<U10')"
      ]
     },
     "execution_count": 95,
     "metadata": {},
     "output_type": "execute_result"
    }
   ],
   "source": [
    "trimmed = np.char.strip(items)\n",
    "low = np.char.lower(trimmed)\n",
    "unique = np.unique(low)\n",
    "print(unique)\n",
    "\n",
    "np.unique(np.char.lower(np.char.strip(items)))"
   ]
  },
  {
   "cell_type": "markdown",
   "metadata": {},
   "source": [
    "## Task 2\n",
    "Filtering Operations\n",
    "\n",
    "a. Find and display all items that start with the letter \"b\"\n",
    "b. Find and display all items that contain the letter \"e\" exactly once"
   ]
  },
  {
   "cell_type": "code",
   "execution_count": 93,
   "metadata": {},
   "outputs": [
    {
     "name": "stdout",
     "output_type": "stream",
     "text": [
      "['banana' 'blueberry']\n",
      "['apple' 'cucumber' 'grape' 'lemon' 'orange' 'raspberry']\n"
     ]
    }
   ],
   "source": [
    "start_with_b = np.char.startswith(unique, 'b')\n",
    "\n",
    "contains_e_once = np.char.count(unique, 'e') == 1\n",
    "\n",
    "print(unique[start_with_b])\n",
    "\n",
    "print(unique[contains_e_once])"
   ]
  },
  {
   "cell_type": "markdown",
   "metadata": {},
   "source": [
    "## Task 3\n",
    "\n",
    "hourly_visitors = [468 279 72 272 406 128 302 216 140 82]\n",
    "\n",
    "- Find total visitors in the day\n",
    "- Which is the peak hour?\n",
    "- On average how many people visit the website per hour"
   ]
  },
  {
   "cell_type": "code",
   "execution_count": 102,
   "metadata": {},
   "outputs": [
    {
     "name": "stdout",
     "output_type": "stream",
     "text": [
      "Total visitors in the day: 2366\n",
      "Peak hour: 1\n",
      "Average visitors per hour: 237\n"
     ]
    }
   ],
   "source": [
    "hourly_visitors = np.array([468, 279, 73, 272, 406, 128, 302, 216, 140, 82])\n",
    "\n",
    "total_visitors = np.sum(hourly_visitors)\n",
    "\n",
    "peak_hour = np.argmax(hourly_visitors)\n",
    "\n",
    "average_visitors_per_hour = np.mean(hourly_visitors)\n",
    "\n",
    "print(\"Total visitors in the day:\", total_visitors)\n",
    "print(\"Peak hour:\", peak_hour + 1)  \n",
    "print(\"Average visitors per hour:\", round(average_visitors_per_hour))"
   ]
  },
  {
   "cell_type": "code",
   "execution_count": 109,
   "metadata": {},
   "outputs": [
    {
     "name": "stdout",
     "output_type": "stream",
     "text": [
      "[1 2 3 4 5 6 7 8 9]\n"
     ]
    },
    {
     "data": {
      "text/plain": [
       "(9,)"
      ]
     },
     "execution_count": 109,
     "metadata": {},
     "output_type": "execute_result"
    }
   ],
   "source": [
    "nums1 = np.arange(1,10)\n",
    "print(nums1)\n",
    "nums1.shape"
   ]
  },
  {
   "cell_type": "code",
   "execution_count": 111,
   "metadata": {},
   "outputs": [
    {
     "data": {
      "text/plain": [
       "(3, 3)"
      ]
     },
     "execution_count": 111,
     "metadata": {},
     "output_type": "execute_result"
    }
   ],
   "source": [
    "nums1.reshape(3,3).shape"
   ]
  },
  {
   "cell_type": "code",
   "execution_count": null,
   "metadata": {},
   "outputs": [],
   "source": [
    "nums_3x3 = nums1.reshape(3,3)\n",
    "np.sum(nums_3x3)\n",
    "np.mean(nums_3x3)\n",
    "np.std(nums_3x3)\n"
   ]
  },
  {
   "cell_type": "code",
   "execution_count": null,
   "metadata": {},
   "outputs": [],
   "source": [
    "print(nums_3x3)\n",
    "np.sum(nums_3x3, axis=0)#column\n",
    "np.sum(nums_3x3, axis=1)#row\n",
    "\n",
    "np.sum(np.sum(nums_3x3, axis=1)) # entire sum"
   ]
  },
  {
   "cell_type": "code",
   "execution_count": null,
   "metadata": {},
   "outputs": [],
   "source": [
    "nums_3x3 *2\n",
    "nums_3x3 +2\n",
    "nums_3x3 /2\n",
    "nums_3x3 -2"
   ]
  },
  {
   "cell_type": "code",
   "execution_count": 105,
   "metadata": {},
   "outputs": [
    {
     "data": {
      "text/plain": [
       "array([88, 42, 58, 98, 81, 83, 98, 42, 71])"
      ]
     },
     "execution_count": 105,
     "metadata": {},
     "output_type": "execute_result"
    }
   ],
   "source": [
    "stats = np.random.randint(40, 100, 9)\n",
    "stats"
   ]
  },
  {
   "cell_type": "code",
   "execution_count": 106,
   "metadata": {},
   "outputs": [
    {
     "data": {
      "text/plain": [
       "array([[88, 42, 58],\n",
       "       [98, 81, 83],\n",
       "       [98, 42, 71]])"
      ]
     },
     "execution_count": 106,
     "metadata": {},
     "output_type": "execute_result"
    }
   ],
   "source": [
    "stats_3x3 = stats.reshape(3,3)\n",
    "stats_3x3"
   ]
  },
  {
   "cell_type": "markdown",
   "metadata": {},
   "source": [
    "## Task 1\n",
    "Find the average temperature of every part of the room\n",
    "Expected output is a 3x3 matrix with average of sensors for each room\n",
    "\n"
   ]
  },
  {
   "cell_type": "code",
   "execution_count": 112,
   "metadata": {},
   "outputs": [],
   "source": [
    "sensor1 = np.array(\n",
    "    [\n",
    "        [23,25,22],\n",
    "        [20,21,20],\n",
    "        [26,25,24]\n",
    "    ]\n",
    ")\n",
    "\n",
    "sensor2 = np.array(\n",
    "    [\n",
    "        [24,23,24],\n",
    "        [22,22,23],\n",
    "        [25,26,26]\n",
    "    ]\n",
    ")"
   ]
  },
  {
   "cell_type": "code",
   "execution_count": 113,
   "metadata": {},
   "outputs": [
    {
     "name": "stdout",
     "output_type": "stream",
     "text": [
      "Average temperature of every part of the room:\n",
      "[[23.5 24.  23. ]\n",
      " [21.  21.5 21.5]\n",
      " [25.5 25.5 25. ]]\n"
     ]
    }
   ],
   "source": [
    "total_sensor_data = sensor1 + sensor2\n",
    "\n",
    "average_temperature = total_sensor_data / 2 \n",
    "\n",
    "print(average_temperature)"
   ]
  },
  {
   "cell_type": "code",
   "execution_count": 115,
   "metadata": {},
   "outputs": [
    {
     "name": "stdout",
     "output_type": "stream",
     "text": [
      "[23.33333333 20.33333333 25.        ]\n",
      "[23.66666667 22.33333333 25.66666667]\n"
     ]
    }
   ],
   "source": [
    "avg_suite_temp1 = np.mean(sensor1,axis=1)\n",
    "avg_suite_temp2 = np.mean(sensor2,axis=1)\n",
    " \n",
    "print(avg_suite_temp1)\n",
    "print(avg_suite_temp2)"
   ]
  },
  {
   "cell_type": "code",
   "execution_count": 116,
   "metadata": {},
   "outputs": [
    {
     "name": "stdout",
     "output_type": "stream",
     "text": [
      "[23.5        21.33333333 25.33333333]\n"
     ]
    }
   ],
   "source": [
    "print((avg_suite_temp1+avg_suite_temp2)/2)"
   ]
  }
 ],
 "metadata": {
  "kernelspec": {
   "display_name": "myenv",
   "language": "python",
   "name": "python3"
  },
  "language_info": {
   "codemirror_mode": {
    "name": "ipython",
    "version": 3
   },
   "file_extension": ".py",
   "mimetype": "text/x-python",
   "name": "python",
   "nbconvert_exporter": "python",
   "pygments_lexer": "ipython3",
   "version": "3.10.8"
  }
 },
 "nbformat": 4,
 "nbformat_minor": 2
}
