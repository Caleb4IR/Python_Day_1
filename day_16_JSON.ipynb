{
 "cells": [
  {
   "cell_type": "markdown",
   "metadata": {},
   "source": [
    "### Sumarising and writing to a new file"
   ]
  },
  {
   "cell_type": "code",
   "execution_count": null,
   "metadata": {},
   "outputs": [],
   "source": [
    "with open(\"blog_post.json\", \"r\") as file:\n",
    "    data = json.load(file)\n",
    "\n",
    "posts_summary = []\n",
    "for post in data[\"posts\"]:\n",
    "    summary_item = {\n",
    "        \"title\": post[\"title\"],\n",
    "        \"author\": post[\"author\"],\n",
    "        \"number_of_comments\": len(post[\"comments\"]),\n",
    "    }\n",
    "    posts_summary.append(summary_item)\n",
    "\n",
    "with open(\"posts_summary.json\", \"w\") as file:\n",
    "    json.dump({\"posts_summary\": posts_summary}, file, indent=4)"
   ]
  },
  {
   "cell_type": "markdown",
   "metadata": {},
   "source": [
    "### Using list comprehension"
   ]
  },
  {
   "cell_type": "code",
   "execution_count": null,
   "metadata": {},
   "outputs": [],
   "source": [
    "with open(\"blog_post.json\", \"r\") as file:\n",
    "    data = json.load(file)\n",
    "\n",
    "posts_summary = [\n",
    "    {\n",
    "        \"title\": post[\"title\"],\n",
    "        \"author\": post[\"author\"],\n",
    "        \"number_of_comments\": len(post[\"comments\"]),\n",
    "    } \n",
    "    for post in data]  \n",
    "    posts_summary.append(posts_summary)\n",
    "\n",
    "    with open(\"posts_summary.json\", \"w\") as file:\n",
    "        json.dump({\"posts_summary\": posts_summary}, file, indent=4)"
   ]
  }
 ],
 "metadata": {
  "language_info": {
   "name": "python"
  }
 },
 "nbformat": 4,
 "nbformat_minor": 2
}
