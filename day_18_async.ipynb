{
 "cells": [
  {
   "cell_type": "code",
   "execution_count": 2,
   "metadata": {},
   "outputs": [
    {
     "name": "stdout",
     "output_type": "stream",
     "text": [
      "Note: you may need to restart the kernel to use updated packages.Requirement already satisfied: requests in c:\\users\\e1005278\\projects\\python_day_1\\myenv\\lib\\site-packages (2.31.0)\n",
      "Requirement already satisfied: urllib3<3,>=1.21.1 in c:\\users\\e1005278\\projects\\python_day_1\\myenv\\lib\\site-packages (from requests) (2.2.1)\n",
      "Requirement already satisfied: idna<4,>=2.5 in c:\\users\\e1005278\\projects\\python_day_1\\myenv\\lib\\site-packages (from requests) (3.6)\n",
      "Requirement already satisfied: charset-normalizer<4,>=2 in c:\\users\\e1005278\\projects\\python_day_1\\myenv\\lib\\site-packages (from requests) (3.3.2)\n",
      "Requirement already satisfied: certifi>=2017.4.17 in c:\\users\\e1005278\\projects\\python_day_1\\myenv\\lib\\site-packages (from requests) (2024.2.2)\n",
      "\n"
     ]
    },
    {
     "name": "stderr",
     "output_type": "stream",
     "text": [
      "\n",
      "[notice] A new release of pip available: 22.2.2 -> 24.0\n",
      "[notice] To update, run: python.exe -m pip install --upgrade pip\n"
     ]
    }
   ],
   "source": [
    "%pip install requests"
   ]
  },
  {
   "cell_type": "code",
   "execution_count": 3,
   "metadata": {},
   "outputs": [],
   "source": [
    "import requests"
   ]
  },
  {
   "cell_type": "code",
   "execution_count": 4,
   "metadata": {},
   "outputs": [
    {
     "name": "stderr",
     "output_type": "stream",
     "text": [
      "c:\\Users\\E1005278\\Projects\\Python_Day_1\\myenv\\lib\\site-packages\\urllib3\\connectionpool.py:1103: InsecureRequestWarning: Unverified HTTPS request is being made to host 'restcountries.com'. Adding certificate verification is strongly advised. See: https://urllib3.readthedocs.io/en/latest/advanced-usage.html#tls-warnings\n",
      "  warnings.warn(\n"
     ]
    },
    {
     "data": {
      "text/plain": [
       "list"
      ]
     },
     "execution_count": 4,
     "metadata": {},
     "output_type": "execute_result"
    }
   ],
   "source": [
    "url = \"https://restcountries.com/v3.1/all\"\n",
    "response = requests.get(url, verify=False)\n",
    "countries = response.json()\n",
    "type(countries)\n"
   ]
  },
  {
   "cell_type": "markdown",
   "metadata": {},
   "source": [
    "## Task 1\n",
    "Print all the country names\n",
    "Printed in a list"
   ]
  },
  {
   "cell_type": "code",
   "execution_count": 5,
   "metadata": {},
   "outputs": [
    {
     "data": {
      "text/plain": [
       "['Cyprus',\n",
       " 'Eritrea',\n",
       " 'Liberia',\n",
       " 'Bermuda',\n",
       " 'Vatican City',\n",
       " 'Cook Islands',\n",
       " 'Somalia',\n",
       " 'Zambia',\n",
       " 'Venezuela',\n",
       " 'Turkmenistan',\n",
       " 'Albania',\n",
       " 'Croatia',\n",
       " 'United Kingdom',\n",
       " 'Sudan',\n",
       " 'Timor-Leste',\n",
       " 'Republic of the Congo',\n",
       " 'Azerbaijan',\n",
       " 'Kenya',\n",
       " 'American Samoa',\n",
       " 'Ivory Coast',\n",
       " 'Senegal',\n",
       " 'Vietnam',\n",
       " 'El Salvador',\n",
       " 'Afghanistan',\n",
       " 'Saint Martin',\n",
       " 'Latvia',\n",
       " 'Guatemala',\n",
       " 'Kuwait',\n",
       " 'São Tomé and Príncipe',\n",
       " 'Kyrgyzstan',\n",
       " 'Poland',\n",
       " 'Guam',\n",
       " 'Ghana',\n",
       " 'Lithuania',\n",
       " 'Armenia',\n",
       " 'Jersey',\n",
       " 'Grenada',\n",
       " 'Tajikistan',\n",
       " 'Ethiopia',\n",
       " 'Western Sahara',\n",
       " 'Morocco',\n",
       " 'Puerto Rico',\n",
       " 'Christmas Island',\n",
       " 'New Zealand',\n",
       " 'Brunei',\n",
       " 'French Guiana',\n",
       " 'Niue',\n",
       " 'Romania',\n",
       " 'Svalbard and Jan Mayen',\n",
       " 'Belarus',\n",
       " 'Panama',\n",
       " 'Cameroon',\n",
       " 'Czechia',\n",
       " 'Saint Barthélemy',\n",
       " 'Greece',\n",
       " 'Mali',\n",
       " 'Martinique',\n",
       " 'France',\n",
       " 'Pakistan',\n",
       " 'Peru',\n",
       " 'Barbados',\n",
       " 'Greenland',\n",
       " 'Saint Pierre and Miquelon',\n",
       " 'Chad',\n",
       " 'Hungary',\n",
       " 'Comoros',\n",
       " 'Bangladesh',\n",
       " 'Tokelau',\n",
       " 'Fiji',\n",
       " 'China',\n",
       " 'Colombia',\n",
       " 'British Virgin Islands',\n",
       " 'Algeria',\n",
       " 'Maldives',\n",
       " 'Malaysia',\n",
       " 'Cayman Islands',\n",
       " 'Spain',\n",
       " 'Ireland',\n",
       " 'Estonia',\n",
       " 'Paraguay',\n",
       " 'Uruguay',\n",
       " 'South Africa',\n",
       " 'Saint Lucia',\n",
       " 'Vanuatu',\n",
       " 'Finland',\n",
       " 'Sweden',\n",
       " 'British Indian Ocean Territory',\n",
       " 'Lebanon',\n",
       " 'United States',\n",
       " 'Chile',\n",
       " 'Norfolk Island',\n",
       " 'Montserrat',\n",
       " 'Australia',\n",
       " 'Belize',\n",
       " 'Guyana',\n",
       " 'Mongolia',\n",
       " 'Tuvalu',\n",
       " 'Dominican Republic',\n",
       " 'Equatorial Guinea',\n",
       " 'Saint Kitts and Nevis',\n",
       " 'Bolivia',\n",
       " 'Nepal',\n",
       " 'French Southern and Antarctic Lands',\n",
       " 'Taiwan',\n",
       " 'Benin',\n",
       " 'Bulgaria',\n",
       " 'Moldova',\n",
       " 'Isle of Man',\n",
       " 'Bhutan',\n",
       " 'Cambodia',\n",
       " 'Antigua and Barbuda',\n",
       " 'Haiti',\n",
       " 'Cape Verde',\n",
       " 'Georgia',\n",
       " 'Burundi',\n",
       " 'Bahamas',\n",
       " 'Mauritius',\n",
       " 'Libya',\n",
       " 'Malawi',\n",
       " 'Mexico',\n",
       " 'Eswatini',\n",
       " 'Papua New Guinea',\n",
       " 'Dominica',\n",
       " 'Liechtenstein',\n",
       " 'Russia',\n",
       " 'Israel',\n",
       " 'Singapore',\n",
       " 'Uganda',\n",
       " 'Slovakia',\n",
       " 'Tonga',\n",
       " 'United Arab Emirates',\n",
       " 'Mayotte',\n",
       " 'Suriname',\n",
       " 'Uzbekistan',\n",
       " 'Saudi Arabia',\n",
       " 'Egypt',\n",
       " 'Italy',\n",
       " 'Madagascar',\n",
       " 'New Caledonia',\n",
       " 'Canada',\n",
       " 'United States Virgin Islands',\n",
       " 'Marshall Islands',\n",
       " 'Mauritania',\n",
       " 'Gambia',\n",
       " 'Trinidad and Tobago',\n",
       " 'Seychelles',\n",
       " 'Japan',\n",
       " 'Brazil',\n",
       " 'Syria',\n",
       " 'Saint Helena, Ascension and Tristan da Cunha',\n",
       " 'Tanzania',\n",
       " 'Andorra',\n",
       " 'Iran',\n",
       " 'Togo',\n",
       " 'Malta',\n",
       " 'South Korea',\n",
       " 'Samoa',\n",
       " 'Germany',\n",
       " 'Niger',\n",
       " 'Bouvet Island',\n",
       " 'Jamaica',\n",
       " 'Nicaragua',\n",
       " 'Guinea',\n",
       " 'Anguilla',\n",
       " 'Åland Islands',\n",
       " 'Belgium',\n",
       " 'Portugal',\n",
       " 'Denmark',\n",
       " 'Philippines',\n",
       " 'Wallis and Futuna',\n",
       " 'Austria',\n",
       " 'Guinea-Bissau',\n",
       " 'Monaco',\n",
       " 'Namibia',\n",
       " 'United States Minor Outlying Islands',\n",
       " 'Costa Rica',\n",
       " 'Bosnia and Herzegovina',\n",
       " 'Macau',\n",
       " 'Mozambique',\n",
       " 'Réunion',\n",
       " 'Montenegro',\n",
       " 'North Korea',\n",
       " 'Northern Mariana Islands',\n",
       " 'Ukraine',\n",
       " 'Iraq',\n",
       " 'South Georgia',\n",
       " 'Angola',\n",
       " 'Sierra Leone',\n",
       " 'Micronesia',\n",
       " 'Cuba',\n",
       " 'Turks and Caicos Islands',\n",
       " 'Serbia',\n",
       " 'Ecuador',\n",
       " 'Faroe Islands',\n",
       " 'Antarctica',\n",
       " 'Palestine',\n",
       " 'Turkey',\n",
       " 'Kiribati',\n",
       " 'Kazakhstan',\n",
       " 'Gibraltar',\n",
       " 'Iceland',\n",
       " 'Palau',\n",
       " 'Qatar',\n",
       " 'Switzerland',\n",
       " 'French Polynesia',\n",
       " 'Pitcairn Islands',\n",
       " 'Jordan',\n",
       " 'Myanmar',\n",
       " 'Thailand',\n",
       " 'Caribbean Netherlands',\n",
       " 'Aruba',\n",
       " 'Guadeloupe',\n",
       " 'Nigeria',\n",
       " 'Bahrain',\n",
       " 'Laos',\n",
       " 'Cocos (Keeling) Islands',\n",
       " 'Djibouti',\n",
       " 'Solomon Islands',\n",
       " 'Heard Island and McDonald Islands',\n",
       " 'India',\n",
       " 'San Marino',\n",
       " 'Luxembourg',\n",
       " 'Sint Maarten',\n",
       " 'Falkland Islands',\n",
       " 'Central African Republic',\n",
       " 'Botswana',\n",
       " 'Curaçao',\n",
       " 'Guernsey',\n",
       " 'Norway',\n",
       " 'Gabon',\n",
       " 'Zimbabwe',\n",
       " 'Lesotho',\n",
       " 'Slovenia',\n",
       " 'Argentina',\n",
       " 'Burkina Faso',\n",
       " 'Yemen',\n",
       " 'DR Congo',\n",
       " 'Oman',\n",
       " 'Indonesia',\n",
       " 'Nauru',\n",
       " 'Rwanda',\n",
       " 'North Macedonia',\n",
       " 'Kosovo',\n",
       " 'Netherlands',\n",
       " 'Tunisia',\n",
       " 'South Sudan',\n",
       " 'Honduras',\n",
       " 'Saint Vincent and the Grenadines',\n",
       " 'Sri Lanka',\n",
       " 'Hong Kong']"
      ]
     },
     "execution_count": 5,
     "metadata": {},
     "output_type": "execute_result"
    }
   ],
   "source": [
    "def get_country_names(countries):\n",
    "    return [country['name']['common'] for country in countries]\n",
    "\n",
    "get_country_names(countries)"
   ]
  },
  {
   "cell_type": "markdown",
   "metadata": {},
   "source": [
    "## Task 2\n",
    "Show the countries with population of more than 10_000_000 and sort by population"
   ]
  },
  {
   "cell_type": "code",
   "execution_count": 6,
   "metadata": {},
   "outputs": [
    {
     "data": {
      "text/plain": [
       "['China',\n",
       " 'India',\n",
       " 'United States',\n",
       " 'Indonesia',\n",
       " 'Pakistan',\n",
       " 'Brazil',\n",
       " 'Nigeria',\n",
       " 'Bangladesh',\n",
       " 'Russia',\n",
       " 'Mexico',\n",
       " 'Japan',\n",
       " 'Ethiopia',\n",
       " 'Philippines',\n",
       " 'DR Congo',\n",
       " 'Egypt',\n",
       " 'Vietnam',\n",
       " 'Turkey',\n",
       " 'Iran',\n",
       " 'Germany',\n",
       " 'Thailand',\n",
       " 'France',\n",
       " 'United Kingdom',\n",
       " 'Tanzania',\n",
       " 'Italy',\n",
       " 'South Africa',\n",
       " 'Myanmar',\n",
       " 'Kenya',\n",
       " 'South Korea',\n",
       " 'Colombia',\n",
       " 'Spain',\n",
       " 'Uganda',\n",
       " 'Argentina',\n",
       " 'Algeria',\n",
       " 'Ukraine',\n",
       " 'Sudan',\n",
       " 'Iraq',\n",
       " 'Afghanistan',\n",
       " 'Canada',\n",
       " 'Poland',\n",
       " 'Morocco',\n",
       " 'Saudi Arabia',\n",
       " 'Uzbekistan',\n",
       " 'Peru',\n",
       " 'Angola',\n",
       " 'Malaysia',\n",
       " 'Mozambique',\n",
       " 'Ghana',\n",
       " 'Yemen',\n",
       " 'Nepal',\n",
       " 'Venezuela',\n",
       " 'Madagascar',\n",
       " 'Cameroon',\n",
       " 'Ivory Coast',\n",
       " 'North Korea',\n",
       " 'Australia',\n",
       " 'Niger',\n",
       " 'Taiwan',\n",
       " 'Sri Lanka',\n",
       " 'Burkina Faso',\n",
       " 'Mali',\n",
       " 'Romania',\n",
       " 'Malawi',\n",
       " 'Chile',\n",
       " 'Kazakhstan',\n",
       " 'Zambia',\n",
       " 'Ecuador',\n",
       " 'Syria',\n",
       " 'Guatemala',\n",
       " 'Senegal',\n",
       " 'Cambodia',\n",
       " 'Netherlands',\n",
       " 'Chad',\n",
       " 'Somalia',\n",
       " 'Zimbabwe',\n",
       " 'Guinea',\n",
       " 'Rwanda',\n",
       " 'Benin',\n",
       " 'Burundi',\n",
       " 'Tunisia',\n",
       " 'Bolivia',\n",
       " 'Belgium',\n",
       " 'Haiti',\n",
       " 'Cuba',\n",
       " 'South Sudan',\n",
       " 'Dominican Republic',\n",
       " 'Greece',\n",
       " 'Czechia',\n",
       " 'Sweden',\n",
       " 'Portugal',\n",
       " 'Jordan',\n",
       " 'Azerbaijan']"
      ]
     },
     "execution_count": 6,
     "metadata": {},
     "output_type": "execute_result"
    }
   ],
   "source": [
    "filtered_countries = [country for country in countries if 'population' in country and country['population'] > 10_000_000]\n",
    "sorted_countries = sorted(filtered_countries, key=lambda x: x['population'], reverse=True)\n",
    "get_country_names(sorted_countries)\n"
   ]
  },
  {
   "cell_type": "markdown",
   "metadata": {},
   "source": [
    "## Task 2.1\n",
    "Same output but use pandas"
   ]
  },
  {
   "cell_type": "code",
   "execution_count": 7,
   "metadata": {},
   "outputs": [
    {
     "data": {
      "text/plain": [
       "name             object\n",
       "tld              object\n",
       "cca2             object\n",
       "ccn3             object\n",
       "cca3             object\n",
       "cioc             object\n",
       "independent      object\n",
       "status           object\n",
       "unMember           bool\n",
       "currencies       object\n",
       "idd              object\n",
       "capital          object\n",
       "altSpellings     object\n",
       "region           object\n",
       "subregion        object\n",
       "languages        object\n",
       "translations     object\n",
       "latlng           object\n",
       "landlocked         bool\n",
       "area            float64\n",
       "demonyms         object\n",
       "flag             object\n",
       "maps             object\n",
       "population        int64\n",
       "gini             object\n",
       "fifa             object\n",
       "car              object\n",
       "timezones        object\n",
       "continents       object\n",
       "flags            object\n",
       "coatOfArms       object\n",
       "startOfWeek      object\n",
       "capitalInfo      object\n",
       "postalCode       object\n",
       "borders          object\n",
       "name_column      object\n",
       "dtype: object"
      ]
     },
     "execution_count": 7,
     "metadata": {},
     "output_type": "execute_result"
    }
   ],
   "source": [
    "import pandas as pd\n",
    "\n",
    "df = pd.DataFrame(countries)\n",
    "\n",
    "# Add a new column 'name_column' containing the common country names\n",
    "df['name_column'] = df['name'].apply(lambda x: x['common'])\n",
    "\n",
    "# Filter countries with population more than 10,000,000\n",
    "filtered_df = df[df['population'] > 10_000_000]\n",
    "\n",
    "# Sort filtered countries by population\n",
    "sorted_df = filtered_df.sort_values(by='population', ascending=False)\n",
    "\n",
    "# Extract common country names from the 'name_column' and print them in a list format\n",
    "top_populated_countries = sorted_df['name_column'].tolist()\n",
    "top_populated_countries\n",
    "\n",
    "import pandas as pd\n",
    "\n",
    "df = pd.DataFrame(countries)\n",
    "df['name_column'] = df['name'].apply(lambda x: x['common'])\n",
    "filtered_df = df[df['population'] > 10_000_000]\n",
    "sorted_df = filtered_df.sort_values(by='population', ascending=False)\n",
    "\n",
    "top_populated_countries = sorted_df['name_column'].tolist()\n",
    "top_populated_countries\n",
    "\n",
    "\n"
   ]
  },
  {
   "cell_type": "markdown",
   "metadata": {},
   "source": [
    "## Task 3\n",
    "Population more than 10_000_000 and sorted by population\n",
    "\n",
    "## Expected Output\n",
    "1. China - population\n",
    "2. Indea - population"
   ]
  },
  {
   "cell_type": "code",
   "execution_count": 54,
   "metadata": {},
   "outputs": [
    {
     "name": "stdout",
     "output_type": "stream",
     "text": [
      "1. China - 1,402,112,000\n",
      "2. India - 1,380,004,385\n",
      "3. United States - 329,484,123\n",
      "4. Indonesia - 273,523,621\n",
      "5. Pakistan - 220,892,331\n",
      "6. Brazil - 212,559,409\n",
      "7. Nigeria - 206,139,587\n",
      "8. Bangladesh - 164,689,383\n",
      "9. Russia - 144,104,080\n",
      "10. Mexico - 128,932,753\n",
      "11. Japan - 125,836,021\n",
      "12. Ethiopia - 114,963,583\n",
      "13. Philippines - 109,581,085\n",
      "14. DR Congo - 108,407,721\n",
      "15. Egypt - 102,334,403\n",
      "16. Vietnam - 97,338,583\n",
      "17. Turkey - 84,339,067\n",
      "18. Iran - 83,992,953\n",
      "19. Germany - 83,240,525\n",
      "20. Thailand - 69,799,978\n",
      "21. France - 67,391,582\n",
      "22. United Kingdom - 67,215,293\n",
      "23. Tanzania - 59,734,213\n",
      "24. Italy - 59,554,023\n",
      "25. South Africa - 59,308,690\n",
      "26. Myanmar - 54,409,794\n",
      "27. Kenya - 53,771,300\n",
      "28. South Korea - 51,780,579\n",
      "29. Colombia - 50,882,884\n",
      "30. Spain - 47,351,567\n",
      "31. Uganda - 45,741,000\n",
      "32. Argentina - 45,376,763\n",
      "33. Algeria - 44,700,000\n",
      "34. Ukraine - 44,134,693\n",
      "35. Sudan - 43,849,269\n",
      "36. Iraq - 40,222,503\n",
      "37. Afghanistan - 40,218,234\n",
      "38. Canada - 38,005,238\n",
      "39. Poland - 37,950,802\n",
      "40. Morocco - 36,910,558\n",
      "41. Saudi Arabia - 34,813,867\n",
      "42. Uzbekistan - 34,232,050\n",
      "43. Peru - 32,971,846\n",
      "44. Angola - 32,866,268\n",
      "45. Malaysia - 32,365,998\n",
      "46. Mozambique - 31,255,435\n",
      "47. Ghana - 31,072,945\n",
      "48. Yemen - 29,825,968\n",
      "49. Nepal - 29,136,808\n",
      "50. Venezuela - 28,435,943\n",
      "51. Madagascar - 27,691,019\n",
      "52. Cameroon - 26,545,864\n",
      "53. Ivory Coast - 26,378,275\n",
      "54. North Korea - 25,778,815\n",
      "55. Australia - 25,687,041\n",
      "56. Niger - 24,206,636\n",
      "57. Taiwan - 23,503,349\n",
      "58. Sri Lanka - 21,919,000\n",
      "59. Burkina Faso - 20,903,278\n",
      "60. Mali - 20,250,834\n",
      "61. Romania - 19,286,123\n",
      "62. Malawi - 19,129,955\n",
      "63. Chile - 19,116,209\n",
      "64. Kazakhstan - 18,754,440\n",
      "65. Zambia - 18,383,956\n",
      "66. Ecuador - 17,643,060\n",
      "67. Syria - 17,500,657\n",
      "68. Guatemala - 16,858,333\n",
      "69. Senegal - 16,743,930\n",
      "70. Cambodia - 16,718,971\n",
      "71. Netherlands - 16,655,799\n",
      "72. Chad - 16,425,859\n",
      "73. Somalia - 15,893,219\n",
      "74. Zimbabwe - 14,862,927\n",
      "75. Guinea - 13,132,792\n",
      "76. Rwanda - 12,952,209\n",
      "77. Benin - 12,123,198\n",
      "78. Burundi - 11,890,781\n",
      "79. Tunisia - 11,818,618\n",
      "80. Bolivia - 11,673,029\n",
      "81. Belgium - 11,555,997\n",
      "82. Haiti - 11,402,533\n",
      "83. Cuba - 11,326,616\n",
      "84. South Sudan - 11,193,729\n",
      "85. Dominican Republic - 10,847,904\n",
      "86. Greece - 10,715,549\n",
      "87. Czechia - 10,698,896\n",
      "88. Sweden - 10,353,442\n",
      "89. Portugal - 10,305,564\n",
      "90. Jordan - 10,203,140\n",
      "91. Azerbaijan - 10,110,116\n"
     ]
    }
   ],
   "source": [
    "# Filter countries with population more than 10,000,000\n",
    "filtered_countries = [country for country in countries if 'population' in country and country['population'] > 10_000_000]\n",
    "\n",
    "# Sort filtered countries by population\n",
    "sorted_countries = sorted(filtered_countries, key=lambda x: x['population'], reverse=True)\n",
    "\n",
    "# Print country names and populations\n",
    "for idx, country in enumerate(sorted_countries, start=1):\n",
    "    print(f\"{idx}. {country['name']['common']} - {country['population']:,}\")\n",
    "\n"
   ]
  },
  {
   "cell_type": "markdown",
   "metadata": {},
   "source": [
    "## Task 4\n",
    "\n",
    "Get the top 10 only"
   ]
  },
  {
   "cell_type": "code",
   "execution_count": 58,
   "metadata": {},
   "outputs": [
    {
     "name": "stdout",
     "output_type": "stream",
     "text": [
      "1. China - 1,402,112,000\n",
      "2. India - 1,380,004,385\n",
      "3. United States - 329,484,123\n",
      "4. Indonesia - 273,523,621\n",
      "5. Pakistan - 220,892,331\n",
      "6. Brazil - 212,559,409\n",
      "7. Nigeria - 206,139,587\n",
      "8. Bangladesh - 164,689,383\n",
      "9. Russia - 144,104,080\n",
      "10. Mexico - 128,932,753\n"
     ]
    },
    {
     "data": {
      "text/plain": [
       "<enumerate at 0x1e5c2623ac0>"
      ]
     },
     "execution_count": 58,
     "metadata": {},
     "output_type": "execute_result"
    }
   ],
   "source": [
    "\n",
    "filtered_countries = [country for country in countries if 'population' in country and country['population'] > 10_000_000]\n",
    "\n",
    "\n",
    "sorted_countries = sorted(filtered_countries, key=lambda x: x['population'], reverse=True)[:10]\n",
    "\n",
    "\n",
    "for idx, country in enumerate(sorted_countries, start=1):\n",
    "    print(f\"{idx}. {country['name']['common']} - {country['population']:,}\")\n",
    "\n",
    "enumerate(sorted_countries)"
   ]
  },
  {
   "cell_type": "markdown",
   "metadata": {},
   "source": [
    "## Task 1\n",
    "Print City name and temperature"
   ]
  },
  {
   "cell_type": "code",
   "execution_count": 61,
   "metadata": {},
   "outputs": [
    {
     "data": {
      "text/plain": [
       "{'location': {'name': 'Cape Town',\n",
       "  'region': 'Western Cape',\n",
       "  'country': 'South Africa',\n",
       "  'lat': -33.92,\n",
       "  'lon': 18.42,\n",
       "  'tz_id': 'Africa/Johannesburg',\n",
       "  'localtime_epoch': 1710496216,\n",
       "  'localtime': '2024-03-15 11:50'},\n",
       " 'current': {'last_updated_epoch': 1710495900,\n",
       "  'last_updated': '2024-03-15 11:45',\n",
       "  'temp_c': 24.0,\n",
       "  'temp_f': 75.2,\n",
       "  'is_day': 0,\n",
       "  'condition': {'text': 'Clear',\n",
       "   'icon': '//cdn.weatherapi.com/weather/64x64/night/113.png',\n",
       "   'code': 1000},\n",
       "  'wind_mph': 12.5,\n",
       "  'wind_kph': 20.2,\n",
       "  'wind_degree': 330,\n",
       "  'wind_dir': 'NNW',\n",
       "  'pressure_mb': 1012.0,\n",
       "  'pressure_in': 29.88,\n",
       "  'precip_mm': 0.0,\n",
       "  'precip_in': 0.0,\n",
       "  'humidity': 50,\n",
       "  'cloud': 0,\n",
       "  'feelslike_c': 26.0,\n",
       "  'feelslike_f': 78.8,\n",
       "  'vis_km': 10.0,\n",
       "  'vis_miles': 6.0,\n",
       "  'uv': 1.0,\n",
       "  'gust_mph': 17.0,\n",
       "  'gust_kph': 27.4}}"
      ]
     },
     "execution_count": 61,
     "metadata": {},
     "output_type": "execute_result"
    }
   ],
   "source": [
    "weather_url = \"http://api.weatherapi.com/v1/current.json?key=87613a288f054a97bb293328241503&q=Cape%20Town&aqi=no\"\n",
    "weather_response = requests.get(weather_url, verify=False)\n",
    "weather = weather_response.json()\n",
    "\n",
    "weather"
   ]
  },
  {
   "cell_type": "code",
   "execution_count": 70,
   "metadata": {},
   "outputs": [
    {
     "data": {
      "text/plain": [
       "'The temperature in Johannesburg is 26.0°C'"
      ]
     },
     "execution_count": 70,
     "metadata": {},
     "output_type": "execute_result"
    }
   ],
   "source": [
    "import requests\n",
    "\n",
    "def get_temperature(city_name):\n",
    "    response = requests.get(f\"http://api.weatherapi.com/v1/current.json?key=87613a288f054a97bb293328241503&q={city_name}&aqi=no\", verify=False)\n",
    "    weather = response.json()\n",
    "   \n",
    "    return f\"The temperature in {weather['location']['name']} is {weather['current']['temp_c']}°C\"\n",
    "\n",
    "\n",
    "get_temperature(\"Cape Town\")\n",
    "get_temperature(\"Johannesburg\")\n",
    "\n"
   ]
  },
  {
   "cell_type": "markdown",
   "metadata": {},
   "source": [
    "# Task 2\n",
    "Create a function which takes list of cities and provide the corresponding temperature in a dictionary"
   ]
  },
  {
   "cell_type": "code",
   "execution_count": 79,
   "metadata": {},
   "outputs": [
    {
     "data": {
      "text/plain": [
       "{'Cape Town': 25.0, 'Johannesburg': 27.0, 'Durban': 25.7}"
      ]
     },
     "execution_count": 79,
     "metadata": {},
     "output_type": "execute_result"
    }
   ],
   "source": [
    "cities = [\"Cape Town\", \"Johannesburg\", \"Durban\"]\n",
    "temperatures={}\n",
    "for city in cities:\n",
    "    temperatures[city] = get_temperature(city)\n",
    "\n",
    "temperatures"
   ]
  },
  {
   "cell_type": "code",
   "execution_count": 8,
   "metadata": {},
   "outputs": [
    {
     "name": "stdout",
     "output_type": "stream",
     "text": [
      "Collecting aiohttpNote: you may need to restart the kernel to use updated packages.\n"
     ]
    },
    {
     "name": "stderr",
     "output_type": "stream",
     "text": [
      "\n",
      "[notice] A new release of pip available: 22.2.2 -> 24.0\n",
      "[notice] To update, run: python.exe -m pip install --upgrade pip\n"
     ]
    },
    {
     "name": "stdout",
     "output_type": "stream",
     "text": [
      "\n",
      "  Downloading aiohttp-3.9.3-cp310-cp310-win_amd64.whl (365 kB)\n",
      "     -------------------------------------- 365.2/365.2 kB 3.2 MB/s eta 0:00:00\n",
      "Collecting yarl<2.0,>=1.0\n",
      "  Downloading yarl-1.9.4-cp310-cp310-win_amd64.whl (76 kB)\n",
      "     ---------------------------------------- 76.4/76.4 kB 4.1 MB/s eta 0:00:00\n",
      "Collecting multidict<7.0,>=4.5\n",
      "  Downloading multidict-6.0.5-cp310-cp310-win_amd64.whl (28 kB)\n",
      "Collecting frozenlist>=1.1.1\n",
      "  Downloading frozenlist-1.4.1-cp310-cp310-win_amd64.whl (50 kB)\n",
      "     ---------------------------------------- 50.4/50.4 kB 2.7 MB/s eta 0:00:00\n",
      "Collecting async-timeout<5.0,>=4.0\n",
      "  Downloading async_timeout-4.0.3-py3-none-any.whl (5.7 kB)\n",
      "Collecting aiosignal>=1.1.2\n",
      "  Downloading aiosignal-1.3.1-py3-none-any.whl (7.6 kB)\n",
      "Collecting attrs>=17.3.0\n",
      "  Downloading attrs-23.2.0-py3-none-any.whl (60 kB)\n",
      "     ---------------------------------------- 60.8/60.8 kB 3.2 MB/s eta 0:00:00\n",
      "Requirement already satisfied: idna>=2.0 in c:\\users\\e1005278\\projects\\python_day_1\\myenv\\lib\\site-packages (from yarl<2.0,>=1.0->aiohttp) (3.6)\n",
      "Installing collected packages: multidict, frozenlist, attrs, async-timeout, yarl, aiosignal, aiohttp\n",
      "Successfully installed aiohttp-3.9.3 aiosignal-1.3.1 async-timeout-4.0.3 attrs-23.2.0 frozenlist-1.4.1 multidict-6.0.5 yarl-1.9.4\n"
     ]
    }
   ],
   "source": [
    "%pip install aiohttp"
   ]
  },
  {
   "cell_type": "code",
   "execution_count": 1,
   "metadata": {},
   "outputs": [
    {
     "name": "stdout",
     "output_type": "stream",
     "text": [
      "Requirement already satisfied: requests in c:\\users\\e1005278\\projects\\python_day_1\\myenv\\lib\\site-packages (2.31.0)\n",
      "Requirement already satisfied: idna<4,>=2.5 in c:\\users\\e1005278\\projects\\python_day_1\\myenv\\lib\\site-packages (from requests) (3.6)\n",
      "Requirement already satisfied: charset-normalizer<4,>=2 in c:\\users\\e1005278\\projects\\python_day_1\\myenv\\lib\\site-packages (from requests) (3.3.2)\n",
      "Requirement already satisfied: urllib3<3,>=1.21.1 in c:\\users\\e1005278\\projects\\python_day_1\\myenv\\lib\\site-packages (from requests) (2.2.1)\n",
      "Requirement already satisfied: certifi>=2017.4.17 in c:\\users\\e1005278\\projects\\python_day_1\\myenv\\lib\\site-packages (from requests) (2024.2.2)\n",
      "Note: you may need to restart the kernel to use updated packages.\n"
     ]
    },
    {
     "name": "stderr",
     "output_type": "stream",
     "text": [
      "\n",
      "[notice] A new release of pip available: 22.2.2 -> 24.0\n",
      "[notice] To update, run: python.exe -m pip install --upgrade pip\n"
     ]
    }
   ],
   "source": [
    "%pip install requests"
   ]
  }
 ],
 "metadata": {
  "kernelspec": {
   "display_name": "myenv",
   "language": "python",
   "name": "python3"
  },
  "language_info": {
   "codemirror_mode": {
    "name": "ipython",
    "version": 3
   },
   "file_extension": ".py",
   "mimetype": "text/x-python",
   "name": "python",
   "nbconvert_exporter": "python",
   "pygments_lexer": "ipython3",
   "version": "3.10.8"
  }
 },
 "nbformat": 4,
 "nbformat_minor": 2
}
